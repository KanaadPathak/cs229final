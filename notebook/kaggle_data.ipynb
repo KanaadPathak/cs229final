{
 "cells": [
  {
   "cell_type": "code",
   "execution_count": null,
   "metadata": {
    "collapsed": true
   },
   "outputs": [],
   "source": [
    "%matplotlib inline"
   ]
  },
  {
   "cell_type": "markdown",
   "metadata": {},
   "source": [
    "# Data Preparation"
   ]
  },
  {
   "cell_type": "markdown",
   "metadata": {},
   "source": [
    "### Load CSV using Pandas"
   ]
  },
  {
   "cell_type": "code",
   "execution_count": null,
   "metadata": {
    "collapsed": false
   },
   "outputs": [],
   "source": [
    "import pandas as pd\n",
    "train = pd.read_csv('../data/kaggle/train.csv')\n",
    "test = pd.read_csv('../data/kaggle/test.csv')\n",
    "print(train.shape, test.shape)"
   ]
  },
  {
   "cell_type": "markdown",
   "metadata": {},
   "source": [
    "### Label Encoding"
   ]
  },
  {
   "cell_type": "code",
   "execution_count": null,
   "metadata": {
    "collapsed": false
   },
   "outputs": [],
   "source": [
    "from sklearn.preprocessing import LabelEncoder\n",
    "encoder = LabelEncoder()\n",
    "y_train = encoder.fit_transform(train.species)\n",
    "labels = encoder.classes_"
   ]
  },
  {
   "cell_type": "markdown",
   "metadata": {},
   "source": [
    "### Reshape the data"
   ]
  },
  {
   "cell_type": "code",
   "execution_count": null,
   "metadata": {
    "collapsed": true
   },
   "outputs": [],
   "source": [
    "X_train = train.drop(['species'], axis=1).set_index('id', drop=True)\n",
    "X_train.index.name = None\n",
    "X_test = test.set_index('id', drop=True)\n",
    "X_test.index.name = None"
   ]
  },
  {
   "cell_type": "markdown",
   "metadata": {},
   "source": [
    "### Standard Scaler (regularization)"
   ]
  },
  {
   "cell_type": "code",
   "execution_count": null,
   "metadata": {
    "collapsed": false
   },
   "outputs": [],
   "source": [
    "from sklearn.preprocessing import StandardScaler\n",
    "scaler = StandardScaler()\n",
    "transform_values = lambda df, func: pd.DataFrame(\n",
    "    func(df.values), \n",
    "    columns=df.columns, \n",
    "    index=df.index)\n",
    "X_train_scaled = transform_values(X_train, scaler.fit_transform)\n",
    "X_test_scaled = transform_values(X_test, scaler.transform)\n",
    "# X_train_scaled = X_train\n",
    "# X_test_scaled = X_test"
   ]
  },
  {
   "cell_type": "code",
   "execution_count": null,
   "metadata": {
    "collapsed": false
   },
   "outputs": [],
   "source": [
    "scaler1 = StandardScaler()\n",
    "scaler1.fit(X_train)\n",
    "X_train_scaled1 = transform_values(X_train, scaler1.transform)\n",
    "X_train_scaled1"
   ]
  },
  {
   "cell_type": "markdown",
   "metadata": {},
   "source": [
    "### Peek the data"
   ]
  },
  {
   "cell_type": "code",
   "execution_count": null,
   "metadata": {
    "collapsed": false,
    "scrolled": true
   },
   "outputs": [],
   "source": [
    "cols = ['margin1', 'texture1', 'shape1'] # X_train.columns\n",
    "train_rows = range(0,4) # range(X_train.shape[0])\n",
    "test_rows = range(0,4)  # range(X_test.shape[0])\n",
    "the_merge = lambda a, b, rows: pd.merge(\n",
    "    a[cols].iloc[rows],\n",
    "    b[cols].iloc[rows],\n",
    "    left_index=True,\n",
    "    right_index=True,\n",
    "    suffixes=['','_scaled'])\n",
    "\n",
    "pd.concat([the_merge(X_train, X_train_scaled, train_rows),\n",
    "           the_merge(X_test,  X_test_scaled, test_rows )],\n",
    "          keys=['train', 'test'])\n",
    "           "
   ]
  },
  {
   "cell_type": "markdown",
   "metadata": {},
   "source": [
    "### Plotting the data"
   ]
  },
  {
   "cell_type": "code",
   "execution_count": null,
   "metadata": {
    "collapsed": false,
    "scrolled": true
   },
   "outputs": [],
   "source": [
    "from matplotlib import pyplot as plt\n",
    "import matplotlib.image as mpimg\n",
    "from pylab import rcParams\n",
    "rcParams['figure.figsize'] = (24, 3)\n",
    "shapes = X_train_scaled.filter(like='shape')\n",
    "r = 3\n",
    "c = 6\n",
    "for i in range(r * c):\n",
    "    id = shapes.index[i]\n",
    "    img = mpimg.imread('../data/kaggle/images/%s.jpg' % id)\n",
    "    plt.subplot(r, c*2, 2*i + 1)\n",
    "    plt.imshow(img, cmap='hot')\n",
    "    plt.subplot(r, c*2, 2*i + 2)\n",
    "    plt.plot(shapes.values[i])\n",
    "    plt.title(id)\n",
    "plt.show()"
   ]
  },
  {
   "cell_type": "markdown",
   "metadata": {},
   "source": [
    "# Model Selection"
   ]
  },
  {
   "cell_type": "markdown",
   "metadata": {},
   "source": [
    "### List Classifiers"
   ]
  },
  {
   "cell_type": "code",
   "execution_count": null,
   "metadata": {
    "collapsed": false
   },
   "outputs": [],
   "source": [
    "from sklearn.neural_network import MLPClassifier\n",
    "from sklearn.neighbors import KNeighborsClassifier\n",
    "from sklearn.svm import SVC, LinearSVC, NuSVC\n",
    "from sklearn.gaussian_process import GaussianProcessClassifier\n",
    "from sklearn.gaussian_process.kernels import RBF\n",
    "from sklearn.tree import DecisionTreeClassifier\n",
    "from sklearn.ensemble import RandomForestClassifier, AdaBoostClassifier, GradientBoostingClassifier\n",
    "from sklearn.naive_bayes import GaussianNB\n",
    "from sklearn.discriminant_analysis import LinearDiscriminantAnalysis, QuadraticDiscriminantAnalysis\n",
    "\n",
    "classifiers = [\n",
    "    ('KNN', KNeighborsClassifier(10)),\n",
    "    ('Linear SVM', SVC(kernel=\"linear\", C=0.025, probability=True)),\n",
    "    ('RBF SVM',    SVC(C=1, probability=True)),\n",
    "\n",
    "    #('Nu SVM', NuSVC(probability=True)),\n",
    "    #('Gaussian Process', GaussianProcessClassifier(1.0 * RBF(1.0), warm_start=True)),\n",
    "    ('Decision Tree', DecisionTreeClassifier()),\n",
    "    ('Random Forest', RandomForestClassifier()),\n",
    "    ('AdaBoost', AdaBoostClassifier()),\n",
    "    ('GradientBoost', GradientBoostingClassifier()),\n",
    "    ('Neural Network', MLPClassifier()),\n",
    "    ('Naive Bayes', GaussianNB()),\n",
    "    ('LDA', LinearDiscriminantAnalysis()),\n",
    "    ('QDA', QuadraticDiscriminantAnalysis())]"
   ]
  },
  {
   "cell_type": "markdown",
   "metadata": {},
   "source": [
    "### Split for Cross Validation"
   ]
  },
  {
   "cell_type": "code",
   "execution_count": null,
   "metadata": {
    "collapsed": false
   },
   "outputs": [],
   "source": [
    "from sklearn.model_selection import StratifiedShuffleSplit, train_test_split, cross_val_score\n",
    "from sklearn.metrics import accuracy_score, log_loss\n",
    "\n",
    "# num_fold = 1\n",
    "# cv_rate = 0.1\n",
    "# sss = StratifiedShuffleSplit(num_fold, test_size=cv_rate, random_state=23)\n",
    "\n",
    "# for train_index, test_index in sss.split(X_train_scaled, Y_train):\n",
    "#     X, X_cv = X_train_scaled.values[train_index], X_train_scaled.values[test_index]\n",
    "#     y, y_cv = y_train[train_index], y_train[test_index]\n",
    "\n",
    "# Logging for Visual Comparison\n",
    "#log_cols=[\"Classifier\", \"Accuracy\", \"Log Loss\"]\n",
    "log_cols=[\"Classifier\", \"Accuracy\"]\n",
    "log = pd.DataFrame(columns=log_cols)\n",
    "\n",
    "for name, clf in classifiers:\n",
    "    it = 0\n",
    "    print(\"=\"*30)\n",
    "    print(name,)\n",
    "    \n",
    "    score = cross_val_score(clf, X_train_scaled, y_train).min()\n",
    "    print(\"Accuracy Score: %.4f\" % score)\n",
    "        \n",
    "#     clf.fit(X, y)\n",
    "    \n",
    "#     print('****Results****')\n",
    "#     score = clf.score(X_cv, y_cv)*100\n",
    "#     print(\"Accuracy Score: %.4f\" % score)\n",
    "\n",
    "#     y_pred_proba = clf.predict_proba(X_cv)\n",
    "#     ll = log_loss(y_cv, y_pred_proba)\n",
    "#     print(\"Log Loss:       %f\" % ll)\n",
    "\n",
    "    log_entry = pd.DataFrame([[name, score]], columns=log_cols)\n",
    "    log = log.append(log_entry)\n",
    "    \n",
    "print(\"=\"*30)"
   ]
  },
  {
   "cell_type": "code",
   "execution_count": null,
   "metadata": {
    "collapsed": false
   },
   "outputs": [],
   "source": [
    "log"
   ]
  },
  {
   "cell_type": "code",
   "execution_count": null,
   "metadata": {
    "collapsed": false,
    "scrolled": false
   },
   "outputs": [],
   "source": [
    "import seaborn as sns\n",
    "rcParams['figure.figsize'] = (20, 10)\n",
    "sns.set_color_codes(\"muted\")\n",
    "sns.barplot(x='Accuracy', y='Classifier', data=log, color=\"b\")\n",
    "\n",
    "plt.xlabel('Accuracy %')\n",
    "plt.title('Classifier Accuracy')\n",
    "plt.show()\n",
    "\n",
    "# sns.set_color_codes(\"muted\")\n",
    "# sns.barplot(x='Log Loss', y='Classifier', data=log, color=\"g\")\n",
    "\n",
    "# plt.xlabel('Log Loss')\n",
    "# plt.title('Classifier Log Loss')\n",
    "# plt.show()"
   ]
  },
  {
   "cell_type": "markdown",
   "metadata": {},
   "source": [
    "# Submission"
   ]
  },
  {
   "cell_type": "code",
   "execution_count": null,
   "metadata": {
    "collapsed": false
   },
   "outputs": [],
   "source": [
    "# Predict Test Set\n",
    "favorite_clf = SVC(kernel=\"linear\", C=0.025, probability=True)\n",
    "favorite_clf.fit(X_train_scaled, y_train)\n",
    "test_predictions = favorite_clf.predict_proba(X_test_scaled)\n",
    "\n",
    "# Format DataFrame\n",
    "submission = pd.DataFrame(test_predictions, columns=labels)\n",
    "submission.insert(0, 'id', X_test.index)\n",
    "submission.reset_index()\n",
    "\n",
    "# Export Submission\n",
    "#submission.to_csv('submission.csv', index = False)\n",
    "submission.tail()"
   ]
  }
 ],
 "metadata": {
  "kernelspec": {
   "display_name": "Python 3",
   "language": "python",
   "name": "python3"
  },
  "language_info": {
   "codemirror_mode": {
    "name": "ipython",
    "version": 3
   },
   "file_extension": ".py",
   "mimetype": "text/x-python",
   "name": "python",
   "nbconvert_exporter": "python",
   "pygments_lexer": "ipython3",
   "version": "3.5.2"
  }
 },
 "nbformat": 4,
 "nbformat_minor": 0
}
